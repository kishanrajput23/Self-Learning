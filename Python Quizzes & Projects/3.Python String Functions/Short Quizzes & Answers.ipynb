{
 "cells": [
  {
   "cell_type": "markdown",
   "id": "labeled-actress",
   "metadata": {},
   "source": [
    "# Format Quiz"
   ]
  },
  {
   "cell_type": "code",
   "execution_count": 2,
   "id": "marine-shelf",
   "metadata": {},
   "outputs": [
    {
     "name": "stdout",
     "output_type": "stream",
     "text": [
      "Python is powerful & elegant language and suitable for data analysis\n"
     ]
    }
   ],
   "source": [
    "a = \"powerful\"\n",
    "b = \"elegant\"\n",
    "msg = (\"Python is {} & {} language and suitable for data analysis\").format(a,b)\n",
    "print(msg)"
   ]
  },
  {
   "cell_type": "markdown",
   "id": "silver-technician",
   "metadata": {},
   "source": [
    "# Length quiz"
   ]
  },
  {
   "cell_type": "code",
   "execution_count": 3,
   "id": "alike-geography",
   "metadata": {},
   "outputs": [
    {
     "name": "stdout",
     "output_type": "stream",
     "text": [
      "6\n"
     ]
    }
   ],
   "source": [
    "prog_lang = 'Python'\n",
    "\n",
    "print(len(prog_lang))"
   ]
  },
  {
   "cell_type": "markdown",
   "id": "stock-riverside",
   "metadata": {},
   "source": [
    "# Count quiz"
   ]
  },
  {
   "cell_type": "code",
   "execution_count": 4,
   "id": "valued-zambia",
   "metadata": {},
   "outputs": [
    {
     "name": "stdout",
     "output_type": "stream",
     "text": [
      "15\n"
     ]
    },
    {
     "data": {
      "text/plain": [
       "1"
      ]
     },
     "execution_count": 4,
     "metadata": {},
     "output_type": "execute_result"
    }
   ],
   "source": [
    "msg = \"No Smoking here\"\n",
    "print(len(msg))\n",
    "msg.count('h')"
   ]
  },
  {
   "cell_type": "code",
   "execution_count": 5,
   "id": "confident-korean",
   "metadata": {},
   "outputs": [
    {
     "data": {
      "text/plain": [
       "2"
      ]
     },
     "execution_count": 5,
     "metadata": {},
     "output_type": "execute_result"
    }
   ],
   "source": [
    "msg.count('o')"
   ]
  },
  {
   "cell_type": "code",
   "execution_count": 6,
   "id": "federal-teach",
   "metadata": {},
   "outputs": [
    {
     "data": {
      "text/plain": [
       "0"
      ]
     },
     "execution_count": 6,
     "metadata": {},
     "output_type": "execute_result"
    }
   ],
   "source": [
    "msg.count('s',3,5)"
   ]
  },
  {
   "cell_type": "code",
   "execution_count": 7,
   "id": "abroad-youth",
   "metadata": {},
   "outputs": [
    {
     "data": {
      "text/plain": [
       "1"
      ]
     },
     "execution_count": 7,
     "metadata": {},
     "output_type": "execute_result"
    }
   ],
   "source": [
    "msg.count('n')"
   ]
  },
  {
   "cell_type": "code",
   "execution_count": 8,
   "id": "laden-conditioning",
   "metadata": {},
   "outputs": [
    {
     "data": {
      "text/plain": [
       "1"
      ]
     },
     "execution_count": 8,
     "metadata": {},
     "output_type": "execute_result"
    }
   ],
   "source": [
    "msg.count('N')"
   ]
  },
  {
   "cell_type": "code",
   "execution_count": 9,
   "id": "acquired-safety",
   "metadata": {},
   "outputs": [
    {
     "data": {
      "text/plain": [
       "0"
      ]
     },
     "execution_count": 9,
     "metadata": {},
     "output_type": "execute_result"
    }
   ],
   "source": [
    "msg.count('o',7,15)"
   ]
  },
  {
   "cell_type": "code",
   "execution_count": 10,
   "id": "enormous-demographic",
   "metadata": {},
   "outputs": [
    {
     "data": {
      "text/plain": [
       "2"
      ]
     },
     "execution_count": 10,
     "metadata": {},
     "output_type": "execute_result"
    }
   ],
   "source": [
    "msg.count('o',1,7)"
   ]
  },
  {
   "cell_type": "code",
   "execution_count": 11,
   "id": "ahead-inspiration",
   "metadata": {},
   "outputs": [],
   "source": [
    "msg_1 = \"The Python language is wonderful\"\n",
    "msg_2 = \"The Python language is elegant\"\n",
    "msg_3 = \"The Python language is poweful\"\n",
    "msg_4 = \"The Python language is suitable for data analysis\""
   ]
  },
  {
   "cell_type": "code",
   "execution_count": 12,
   "id": "still-integration",
   "metadata": {},
   "outputs": [
    {
     "data": {
      "text/plain": [
       "1"
      ]
     },
     "execution_count": 12,
     "metadata": {},
     "output_type": "execute_result"
    }
   ],
   "source": [
    "msg_1.count('w')"
   ]
  },
  {
   "cell_type": "code",
   "execution_count": 13,
   "id": "average-skiing",
   "metadata": {},
   "outputs": [
    {
     "data": {
      "text/plain": [
       "4"
      ]
     },
     "execution_count": 13,
     "metadata": {},
     "output_type": "execute_result"
    }
   ],
   "source": [
    "msg_2.count('e')"
   ]
  },
  {
   "cell_type": "code",
   "execution_count": 14,
   "id": "foreign-alliance",
   "metadata": {},
   "outputs": [
    {
     "data": {
      "text/plain": [
       "2"
      ]
     },
     "execution_count": 14,
     "metadata": {},
     "output_type": "execute_result"
    }
   ],
   "source": [
    "msg_3.count('l')"
   ]
  },
  {
   "cell_type": "code",
   "execution_count": 15,
   "id": "selected-essence",
   "metadata": {},
   "outputs": [
    {
     "data": {
      "text/plain": [
       "3"
      ]
     },
     "execution_count": 15,
     "metadata": {},
     "output_type": "execute_result"
    }
   ],
   "source": [
    "msg_4.count('i')"
   ]
  },
  {
   "cell_type": "markdown",
   "id": "retained-shower",
   "metadata": {},
   "source": [
    "# Count Quiz 2"
   ]
  },
  {
   "cell_type": "code",
   "execution_count": 16,
   "id": "given-stylus",
   "metadata": {},
   "outputs": [
    {
     "name": "stdout",
     "output_type": "stream",
     "text": [
      "12\n"
     ]
    }
   ],
   "source": [
    "job_des = \" are you working as a Python programmer?\"\n",
    "job_des_vowel_lower_count = job_des.count('a') + job_des.count('i') +job_des.count('o')+job_des.count('u')+job_des.count('e')\n",
    "job_des_vowel_upper_count = job_des.count('A')+job_des.count('E')+job_des.count('O')+job_des.count('U')+job_des.count('I')\n",
    "job_des_vowel_count = job_des_vowel_lower_count + job_des_vowel_upper_count\n",
    "print(job_des_vowel_count)\n"
   ]
  },
  {
   "cell_type": "markdown",
   "id": "committed-utility",
   "metadata": {},
   "source": [
    "# endswith & startswith quiz"
   ]
  },
  {
   "cell_type": "code",
   "execution_count": 17,
   "id": "olive-facial",
   "metadata": {},
   "outputs": [
    {
     "data": {
      "text/plain": [
       "True"
      ]
     },
     "execution_count": 17,
     "metadata": {},
     "output_type": "execute_result"
    }
   ],
   "source": [
    "msg_1.endswith('l')"
   ]
  },
  {
   "cell_type": "code",
   "execution_count": 18,
   "id": "outside-hearts",
   "metadata": {},
   "outputs": [
    {
     "data": {
      "text/plain": [
       "True"
      ]
     },
     "execution_count": 18,
     "metadata": {},
     "output_type": "execute_result"
    }
   ],
   "source": [
    "msg_1.startswith('T')"
   ]
  },
  {
   "cell_type": "code",
   "execution_count": 19,
   "id": "roman-lithuania",
   "metadata": {},
   "outputs": [
    {
     "data": {
      "text/plain": [
       "False"
      ]
     },
     "execution_count": 19,
     "metadata": {},
     "output_type": "execute_result"
    }
   ],
   "source": [
    "msg_2.endswith('l')"
   ]
  },
  {
   "cell_type": "code",
   "execution_count": 20,
   "id": "elect-billy",
   "metadata": {},
   "outputs": [
    {
     "data": {
      "text/plain": [
       "True"
      ]
     },
     "execution_count": 20,
     "metadata": {},
     "output_type": "execute_result"
    }
   ],
   "source": [
    "msg_3.endswith('l')"
   ]
  },
  {
   "cell_type": "markdown",
   "id": "saved-secretariat",
   "metadata": {},
   "source": [
    "# islower & isupper quiz"
   ]
  },
  {
   "cell_type": "code",
   "execution_count": 21,
   "id": "endangered-empire",
   "metadata": {},
   "outputs": [],
   "source": [
    "msg = \"Don't turn left\""
   ]
  },
  {
   "cell_type": "code",
   "execution_count": 22,
   "id": "lesbian-split",
   "metadata": {},
   "outputs": [
    {
     "data": {
      "text/plain": [
       "False"
      ]
     },
     "execution_count": 22,
     "metadata": {},
     "output_type": "execute_result"
    }
   ],
   "source": [
    "msg.isupper()"
   ]
  },
  {
   "cell_type": "code",
   "execution_count": 23,
   "id": "confirmed-column",
   "metadata": {},
   "outputs": [
    {
     "data": {
      "text/plain": [
       "False"
      ]
     },
     "execution_count": 23,
     "metadata": {},
     "output_type": "execute_result"
    }
   ],
   "source": [
    "msg.islower()"
   ]
  },
  {
   "cell_type": "code",
   "execution_count": 24,
   "id": "ongoing-calendar",
   "metadata": {},
   "outputs": [
    {
     "data": {
      "text/plain": [
       "\"DON'T TURN LEFT\""
      ]
     },
     "execution_count": 24,
     "metadata": {},
     "output_type": "execute_result"
    }
   ],
   "source": [
    "\"Don't turn left\".upper()"
   ]
  },
  {
   "cell_type": "code",
   "execution_count": 25,
   "id": "convertible-portugal",
   "metadata": {},
   "outputs": [
    {
     "data": {
      "text/plain": [
       "\"don't turn left\""
      ]
     },
     "execution_count": 25,
     "metadata": {},
     "output_type": "execute_result"
    }
   ],
   "source": [
    "\"Don't turn left\".lower()"
   ]
  },
  {
   "cell_type": "code",
   "execution_count": 26,
   "id": "hearing-class",
   "metadata": {},
   "outputs": [
    {
     "data": {
      "text/plain": [
       "\"DON'T TURN LEFT\""
      ]
     },
     "execution_count": 26,
     "metadata": {},
     "output_type": "execute_result"
    }
   ],
   "source": [
    "msg.upper()\n"
   ]
  },
  {
   "cell_type": "code",
   "execution_count": 27,
   "id": "swedish-clock",
   "metadata": {},
   "outputs": [
    {
     "data": {
      "text/plain": [
       "\"don't turn left\""
      ]
     },
     "execution_count": 27,
     "metadata": {},
     "output_type": "execute_result"
    }
   ],
   "source": [
    "msg.lower()"
   ]
  },
  {
   "cell_type": "markdown",
   "id": "structural-japan",
   "metadata": {},
   "source": [
    "# find quiz"
   ]
  },
  {
   "cell_type": "code",
   "execution_count": 28,
   "id": "macro-sleep",
   "metadata": {},
   "outputs": [
    {
     "data": {
      "text/plain": [
       "15"
      ]
     },
     "execution_count": 28,
     "metadata": {},
     "output_type": "execute_result"
    }
   ],
   "source": [
    "string = \"Don't turn left!\"\n",
    "string.find('!')"
   ]
  },
  {
   "cell_type": "code",
   "execution_count": 29,
   "id": "southeast-storage",
   "metadata": {},
   "outputs": [
    {
     "data": {
      "text/plain": [
       "15"
      ]
     },
     "execution_count": 29,
     "metadata": {},
     "output_type": "execute_result"
    }
   ],
   "source": [
    "string.index('!')"
   ]
  },
  {
   "cell_type": "code",
   "execution_count": 30,
   "id": "differential-probe",
   "metadata": {},
   "outputs": [
    {
     "data": {
      "text/plain": [
       "-1"
      ]
     },
     "execution_count": 30,
     "metadata": {},
     "output_type": "execute_result"
    }
   ],
   "source": [
    "string = \"Don't turn left!\"\n",
    "string.find('m')"
   ]
  },
  {
   "cell_type": "code",
   "execution_count": 31,
   "id": "urban-google",
   "metadata": {},
   "outputs": [
    {
     "ename": "ValueError",
     "evalue": "substring not found",
     "output_type": "error",
     "traceback": [
      "\u001b[0;31m---------------------------------------------------------------------------\u001b[0m",
      "\u001b[0;31mValueError\u001b[0m                                Traceback (most recent call last)",
      "\u001b[0;32m<ipython-input-31-9c6571c8eac9>\u001b[0m in \u001b[0;36m<module>\u001b[0;34m\u001b[0m\n\u001b[1;32m      1\u001b[0m \u001b[0mstring\u001b[0m \u001b[0;34m=\u001b[0m \u001b[0;34m\"Don't turn left!\"\u001b[0m\u001b[0;34m\u001b[0m\u001b[0;34m\u001b[0m\u001b[0m\n\u001b[0;32m----> 2\u001b[0;31m \u001b[0mstring\u001b[0m\u001b[0;34m.\u001b[0m\u001b[0mindex\u001b[0m\u001b[0;34m(\u001b[0m\u001b[0;34m'm'\u001b[0m\u001b[0;34m)\u001b[0m\u001b[0;34m\u001b[0m\u001b[0;34m\u001b[0m\u001b[0m\n\u001b[0m",
      "\u001b[0;31mValueError\u001b[0m: substring not found"
     ]
    }
   ],
   "source": [
    "string = \"Don't turn left!\"\n",
    "string.index('m')"
   ]
  },
  {
   "cell_type": "markdown",
   "id": "polished-timer",
   "metadata": {},
   "source": [
    "# input quiz"
   ]
  },
  {
   "cell_type": "code",
   "execution_count": 34,
   "id": "close-secret",
   "metadata": {},
   "outputs": [
    {
     "name": "stdout",
     "output_type": "stream",
     "text": [
      "your_name Kishan\n",
      "car_color Blue\n",
      "your_car_plate_number KKRDL2000\n",
      "name is Kishan, car color is Blue, car_plate_number is KKRDL2000\n"
     ]
    }
   ],
   "source": [
    "name = input('your_name ')\n",
    "\n",
    "car_color = input('car_color ')\n",
    "\n",
    "car_num = input(\"your_car_plate_number \")\n",
    "\n",
    "print(\"name is \"+name+\", \"+\"car color is \"+car_color+\", \"+\"car_plate_number is \"+ car_num)"
   ]
  }
 ],
 "metadata": {
  "kernelspec": {
   "display_name": "Python 3",
   "language": "python",
   "name": "python3"
  },
  "language_info": {
   "codemirror_mode": {
    "name": "ipython",
    "version": 3
   },
   "file_extension": ".py",
   "mimetype": "text/x-python",
   "name": "python",
   "nbconvert_exporter": "python",
   "pygments_lexer": "ipython3",
   "version": "3.7.8"
  }
 },
 "nbformat": 4,
 "nbformat_minor": 5
}
