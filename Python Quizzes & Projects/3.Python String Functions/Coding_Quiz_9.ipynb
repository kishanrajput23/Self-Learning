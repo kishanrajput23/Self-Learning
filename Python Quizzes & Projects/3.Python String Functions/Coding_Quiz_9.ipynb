{
 "cells": [
  {
   "cell_type": "code",
   "execution_count": 1,
   "id": "returning-fever",
   "metadata": {},
   "outputs": [],
   "source": [
    "sentence = \"The coding is fun\""
   ]
  },
  {
   "cell_type": "code",
   "execution_count": 4,
   "id": "duplicate-retrieval",
   "metadata": {},
   "outputs": [
    {
     "data": {
      "text/plain": [
       "'The coding is awesome'"
      ]
     },
     "execution_count": 4,
     "metadata": {},
     "output_type": "execute_result"
    }
   ],
   "source": [
    "sentence.replace(\"fun\", \"awesome\")"
   ]
  },
  {
   "cell_type": "code",
   "execution_count": 6,
   "id": "union-happiness",
   "metadata": {},
   "outputs": [
    {
     "data": {
      "text/plain": [
       "'coding is fun'"
      ]
     },
     "execution_count": 6,
     "metadata": {},
     "output_type": "execute_result"
    }
   ],
   "source": [
    "sentence.strip(\"The \")"
   ]
  }
 ],
 "metadata": {
  "kernelspec": {
   "display_name": "Python 3",
   "language": "python",
   "name": "python3"
  },
  "language_info": {
   "codemirror_mode": {
    "name": "ipython",
    "version": 3
   },
   "file_extension": ".py",
   "mimetype": "text/x-python",
   "name": "python",
   "nbconvert_exporter": "python",
   "pygments_lexer": "ipython3",
   "version": "3.7.8"
  }
 },
 "nbformat": 4,
 "nbformat_minor": 5
}
