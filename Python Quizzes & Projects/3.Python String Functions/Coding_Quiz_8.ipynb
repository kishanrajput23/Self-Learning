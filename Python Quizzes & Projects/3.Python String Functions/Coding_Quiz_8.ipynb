{
  "nbformat": 4,
  "nbformat_minor": 5,
  "metadata": {
    "kernelspec": {
      "display_name": "Python 3",
      "language": "python",
      "name": "python3"
    },
    "language_info": {
      "codemirror_mode": {
        "name": "ipython",
        "version": 3
      },
      "file_extension": ".py",
      "mimetype": "text/x-python",
      "name": "python",
      "nbconvert_exporter": "python",
      "pygments_lexer": "ipython3",
      "version": "3.7.8"
    },
    "colab": {
      "name": "Coding_quiz_8.ipynb",
      "provenance": []
    }
  },
  "cells": [
    {
      "cell_type": "code",
      "metadata": {
        "id": "recognized-israeli",
        "outputId": "cfb51917-9fb8-4070-873c-2eabf52570e3"
      },
      "source": [
        "msg = \"Don't turn left\"\n",
        "msg.isupper()"
      ],
      "id": "recognized-israeli",
      "execution_count": null,
      "outputs": [
        {
          "output_type": "execute_result",
          "data": {
            "text/plain": [
              "False"
            ]
          },
          "metadata": {
            "tags": []
          },
          "execution_count": 1
        }
      ]
    },
    {
      "cell_type": "code",
      "metadata": {
        "id": "organic-tourism",
        "outputId": "e489acf6-9386-4f94-9f24-ff8f9d676f2a"
      },
      "source": [
        "msg.islower()"
      ],
      "id": "organic-tourism",
      "execution_count": null,
      "outputs": [
        {
          "output_type": "execute_result",
          "data": {
            "text/plain": [
              "False"
            ]
          },
          "metadata": {
            "tags": []
          },
          "execution_count": 2
        }
      ]
    },
    {
      "cell_type": "code",
      "metadata": {
        "id": "split-adventure",
        "outputId": "fe5aa212-b849-44fa-d1c3-d7155c635d09"
      },
      "source": [
        "\"Don't turn left\".upper()"
      ],
      "id": "split-adventure",
      "execution_count": null,
      "outputs": [
        {
          "output_type": "execute_result",
          "data": {
            "text/plain": [
              "\"DON'T TURN LEFT\""
            ]
          },
          "metadata": {
            "tags": []
          },
          "execution_count": 3
        }
      ]
    },
    {
      "cell_type": "code",
      "metadata": {
        "id": "focused-portland",
        "outputId": "a207774b-03ca-416f-f78a-aa59879370bb"
      },
      "source": [
        "\"Don't turn left\".lower()"
      ],
      "id": "focused-portland",
      "execution_count": null,
      "outputs": [
        {
          "output_type": "execute_result",
          "data": {
            "text/plain": [
              "\"don't turn left\""
            ]
          },
          "metadata": {
            "tags": []
          },
          "execution_count": 4
        }
      ]
    },
    {
      "cell_type": "code",
      "metadata": {
        "id": "herbal-johns"
      },
      "source": [
        ""
      ],
      "id": "herbal-johns",
      "execution_count": null,
      "outputs": []
    }
  ]
}