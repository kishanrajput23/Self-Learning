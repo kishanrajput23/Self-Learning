{
 "cells": [
  {
   "cell_type": "code",
   "execution_count": 5,
   "id": "distributed-chuck",
   "metadata": {},
   "outputs": [],
   "source": [
    "my_list =[1,4,20,50,100,2000,10000,6]"
   ]
  },
  {
   "cell_type": "code",
   "execution_count": 6,
   "id": "clean-newton",
   "metadata": {},
   "outputs": [
    {
     "data": {
      "text/plain": [
       "12181"
      ]
     },
     "execution_count": 6,
     "metadata": {},
     "output_type": "execute_result"
    }
   ],
   "source": [
    "sum(my_list)"
   ]
  },
  {
   "cell_type": "code",
   "execution_count": 8,
   "id": "loving-beaver",
   "metadata": {},
   "outputs": [
    {
     "name": "stdout",
     "output_type": "stream",
     "text": [
      "48000000000000\n"
     ]
    }
   ],
   "source": [
    "def multiplyList(myList):\n",
    "    result = 1\n",
    "    for item in myList:\n",
    "        result = result * item\n",
    "    return result\n",
    "\n",
    "print(multiplyList(my_list))"
   ]
  },
  {
   "cell_type": "code",
   "execution_count": 9,
   "id": "authorized-barbados",
   "metadata": {},
   "outputs": [
    {
     "data": {
      "text/plain": [
       "10000"
      ]
     },
     "execution_count": 9,
     "metadata": {},
     "output_type": "execute_result"
    }
   ],
   "source": [
    "max(my_list)"
   ]
  },
  {
   "cell_type": "code",
   "execution_count": 10,
   "id": "spread-coordinate",
   "metadata": {},
   "outputs": [
    {
     "data": {
      "text/plain": [
       "1"
      ]
     },
     "execution_count": 10,
     "metadata": {},
     "output_type": "execute_result"
    }
   ],
   "source": [
    "min(my_list)"
   ]
  },
  {
   "cell_type": "code",
   "execution_count": 11,
   "id": "intensive-mathematics",
   "metadata": {},
   "outputs": [
    {
     "data": {
      "text/plain": [
       "8"
      ]
     },
     "execution_count": 11,
     "metadata": {},
     "output_type": "execute_result"
    }
   ],
   "source": [
    "len(my_list)"
   ]
  },
  {
   "cell_type": "code",
   "execution_count": null,
   "id": "hazardous-proposition",
   "metadata": {},
   "outputs": [],
   "source": []
  }
 ],
 "metadata": {
  "kernelspec": {
   "display_name": "Python 3",
   "language": "python",
   "name": "python3"
  },
  "language_info": {
   "codemirror_mode": {
    "name": "ipython",
    "version": 3
   },
   "file_extension": ".py",
   "mimetype": "text/x-python",
   "name": "python",
   "nbconvert_exporter": "python",
   "pygments_lexer": "ipython3",
   "version": "3.7.8"
  }
 },
 "nbformat": 4,
 "nbformat_minor": 5
}
