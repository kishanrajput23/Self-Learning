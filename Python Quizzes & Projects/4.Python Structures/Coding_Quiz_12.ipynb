{
 "cells": [
  {
   "cell_type": "code",
   "execution_count": 9,
   "id": "assisted-ministry",
   "metadata": {},
   "outputs": [],
   "source": [
    "my_tuple = ('P','y','t','h','o','n','P','r','o','g','r','a','m','m','i','n','g')"
   ]
  },
  {
   "cell_type": "code",
   "execution_count": 10,
   "id": "eleven-circle",
   "metadata": {},
   "outputs": [
    {
     "name": "stdout",
     "output_type": "stream",
     "text": [
      "PythonProgramming\n"
     ]
    }
   ],
   "source": [
    "my_string = \"\".join(my_tuple)\n",
    "print(my_string)"
   ]
  }
 ],
 "metadata": {
  "kernelspec": {
   "display_name": "Python 3",
   "language": "python",
   "name": "python3"
  },
  "language_info": {
   "codemirror_mode": {
    "name": "ipython",
    "version": 3
   },
   "file_extension": ".py",
   "mimetype": "text/x-python",
   "name": "python",
   "nbconvert_exporter": "python",
   "pygments_lexer": "ipython3",
   "version": "3.7.8"
  }
 },
 "nbformat": 4,
 "nbformat_minor": 5
}
