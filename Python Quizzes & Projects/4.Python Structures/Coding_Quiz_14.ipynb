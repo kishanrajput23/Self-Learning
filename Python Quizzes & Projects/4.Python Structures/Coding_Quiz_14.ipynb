{
 "cells": [
  {
   "cell_type": "code",
   "execution_count": 12,
   "id": "close-variable",
   "metadata": {},
   "outputs": [],
   "source": [
    "# Get the result of the union the next two sets:\n",
    "a = {'red', 'yellow','orange','green'}\n",
    "b = {'red','orange','black'}"
   ]
  },
  {
   "cell_type": "code",
   "execution_count": 13,
   "id": "numerical-glasgow",
   "metadata": {},
   "outputs": [
    {
     "name": "stdout",
     "output_type": "stream",
     "text": [
      "{'red', 'yellow', 'orange', 'green', 'black'}\n"
     ]
    }
   ],
   "source": [
    "print(a.union(b))"
   ]
  },
  {
   "cell_type": "code",
   "execution_count": 14,
   "id": "subtle-identifier",
   "metadata": {},
   "outputs": [
    {
     "name": "stdout",
     "output_type": "stream",
     "text": [
      "{'red', 'yellow', 'orange', 'green', 'black'}\n"
     ]
    }
   ],
   "source": [
    "print(a | b)"
   ]
  }
 ],
 "metadata": {
  "kernelspec": {
   "display_name": "Python 3",
   "language": "python",
   "name": "python3"
  },
  "language_info": {
   "codemirror_mode": {
    "name": "ipython",
    "version": 3
   },
   "file_extension": ".py",
   "mimetype": "text/x-python",
   "name": "python",
   "nbconvert_exporter": "python",
   "pygments_lexer": "ipython3",
   "version": "3.7.8"
  }
 },
 "nbformat": 4,
 "nbformat_minor": 5
}
