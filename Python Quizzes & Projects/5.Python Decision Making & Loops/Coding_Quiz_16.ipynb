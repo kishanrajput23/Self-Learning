{
 "cells": [
  {
   "cell_type": "code",
   "execution_count": 4,
   "id": "seasonal-ebony",
   "metadata": {},
   "outputs": [
    {
     "name": "stdout",
     "output_type": "stream",
     "text": [
      "48000000000000\n"
     ]
    }
   ],
   "source": [
    "my_list =[1,4,20,50,100,2000,10000,6]\n",
    "multiple = 1\n",
    "for i in my_list:\n",
    "    multiple *= i\n",
    "    \n",
    "print(multiple)"
   ]
  }
 ],
 "metadata": {
  "kernelspec": {
   "display_name": "Python 3",
   "language": "python",
   "name": "python3"
  },
  "language_info": {
   "codemirror_mode": {
    "name": "ipython",
    "version": 3
   },
   "file_extension": ".py",
   "mimetype": "text/x-python",
   "name": "python",
   "nbconvert_exporter": "python",
   "pygments_lexer": "ipython3",
   "version": "3.7.8"
  }
 },
 "nbformat": 4,
 "nbformat_minor": 5
}
