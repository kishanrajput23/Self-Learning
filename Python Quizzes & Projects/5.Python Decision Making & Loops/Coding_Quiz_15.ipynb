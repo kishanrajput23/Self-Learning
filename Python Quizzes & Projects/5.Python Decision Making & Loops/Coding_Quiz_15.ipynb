{
 "cells": [
  {
   "cell_type": "code",
   "execution_count": 1,
   "id": "swedish-compound",
   "metadata": {},
   "outputs": [
    {
     "name": "stdout",
     "output_type": "stream",
     "text": [
      "How old are you? 21\n",
      "train_ticket = 10 $\n"
     ]
    }
   ],
   "source": [
    "age = int(input(\"How old are you? \"))\n",
    "\n",
    "if age < 18:\n",
    "    print(\"train_ticket = 2 $\")\n",
    "elif age>= 18:\n",
    "    print(\"train_ticket = 10 $\")\n",
    "elif age < 60:\n",
    "    print(\"train_ticket = 10 $\")\n",
    "else:\n",
    "    print(\"train_ticket = 5 $\" )   "
   ]
  },
  {
   "cell_type": "code",
   "execution_count": 2,
   "id": "registered-debut",
   "metadata": {},
   "outputs": [
    {
     "name": "stdout",
     "output_type": "stream",
     "text": [
      "How old are you? 15\n",
      "train_ticket = 2 $\n"
     ]
    }
   ],
   "source": [
    "age = int(input(\"How old are you? \"))\n",
    "\n",
    "if age < 18:\n",
    "    print(\"train_ticket = 2 $\")\n",
    "elif age>= 18:\n",
    "    print(\"train_ticket = 10 $\")\n",
    "elif age < 60:\n",
    "    print(\"train_ticket = 10 $\")\n",
    "else:\n",
    "    print(\"train_ticket = 5 $\" )   "
   ]
  },
  {
   "cell_type": "code",
   "execution_count": 3,
   "id": "alternative-thesis",
   "metadata": {},
   "outputs": [
    {
     "name": "stdout",
     "output_type": "stream",
     "text": [
      "How old are you? 65\n",
      "train_ticket = 10 $\n"
     ]
    }
   ],
   "source": [
    "age = int(input(\"How old are you? \"))\n",
    "\n",
    "if age < 18:\n",
    "    print(\"train_ticket = 2 $\")\n",
    "elif age>= 18:\n",
    "    print(\"train_ticket = 10 $\")\n",
    "elif age < 60:\n",
    "    print(\"train_ticket = 10 $\")\n",
    "else:\n",
    "    print(\"train_ticket = 5 $\" )   "
   ]
  }
 ],
 "metadata": {
  "kernelspec": {
   "display_name": "Python 3",
   "language": "python",
   "name": "python3"
  },
  "language_info": {
   "codemirror_mode": {
    "name": "ipython",
    "version": 3
   },
   "file_extension": ".py",
   "mimetype": "text/x-python",
   "name": "python",
   "nbconvert_exporter": "python",
   "pygments_lexer": "ipython3",
   "version": "3.7.8"
  }
 },
 "nbformat": 4,
 "nbformat_minor": 5
}
